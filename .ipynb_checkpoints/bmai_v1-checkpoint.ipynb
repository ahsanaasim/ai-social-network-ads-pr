{
 "cells": [
  {
   "cell_type": "code",
   "execution_count": 1,
   "metadata": {
    "collapsed": true
   },
   "outputs": [],
   "source": [
    "import os\n",
    "import numpy as np\n",
    "import pandas as pd\n",
    "import matplotlib.pyplot as plt"
   ]
  },
  {
   "cell_type": "code",
   "execution_count": 2,
   "metadata": {
    "collapsed": true
   },
   "outputs": [],
   "source": [
    "filepath = 'fay_data.json'\n",
    "dataset = pd.read_json(filepath)\n",
    "X = dataset.iloc[:, 1:].values\n",
    "y = dataset.iloc[:, ].values"
   ]
  },
  {
   "cell_type": "code",
   "execution_count": 4,
   "metadata": {
    "collapsed": false
   },
   "outputs": [
    {
     "data": {
      "text/plain": [
       "array([[False, 2L, u'User Experience Designer T-Mobile', True, True,\n",
       "        u'josef-boutte'],\n",
       "       [False, 3L, u'UX Researcher + Designer', True, True, u'danielrbeals'],\n",
       "       [False, 3L, u'Cozier Fashions Link', False, True,\n",
       "        u'ali-haider-85986160'],\n",
       "       ..., \n",
       "       [False, 2L,\n",
       "        u'Pattern Maker & Quality technician  Needle Craft for Clothing Industry',\n",
       "        False, True, u'zakir-hosen-164bb7209'],\n",
       "       [False, 3L, u'UX Designer EY', False, True, u'tracyhe97'],\n",
       "       [False, 2L, u'Data Analyst | Kaggle Master', False, True,\n",
       "        u'mohaiminul-islam-591850193']], dtype=object)"
      ]
     },
     "execution_count": 4,
     "metadata": {},
     "output_type": "execute_result"
    }
   ],
   "source": []
  },
  {
   "cell_type": "code",
   "execution_count": null,
   "metadata": {
    "collapsed": true
   },
   "outputs": [],
   "source": []
  }
 ],
 "metadata": {
  "kernelspec": {
   "display_name": "Python [Root]",
   "language": "python",
   "name": "Python [Root]"
  },
  "language_info": {
   "codemirror_mode": {
    "name": "ipython",
    "version": 2
   },
   "file_extension": ".py",
   "mimetype": "text/x-python",
   "name": "python",
   "nbconvert_exporter": "python",
   "pygments_lexer": "ipython2",
   "version": "2.7.12"
  }
 },
 "nbformat": 4,
 "nbformat_minor": 0
}
